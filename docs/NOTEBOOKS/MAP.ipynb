{
 "cells": [
  {
   "cell_type": "code",
   "execution_count": 4,
   "id": "interracial-baseball",
   "metadata": {},
   "outputs": [],
   "source": [
    "from ipyleaflet import Map"
   ]
  },
  {
   "cell_type": "code",
   "execution_count": 9,
   "id": "bacterial-soldier",
   "metadata": {},
   "outputs": [
    {
     "data": {
      "application/vnd.jupyter.widget-view+json": {
       "model_id": "524f0262177044b0bf345021d0906759",
       "version_major": 2,
       "version_minor": 0
      },
      "text/plain": [
       "Map(center=[36, 9], controls=(ZoomControl(options=['position', 'zoom_in_text', 'zoom_in_title', 'zoom_out_text…"
      ]
     },
     "metadata": {},
     "output_type": "display_data"
    }
   ],
   "source": [
    "\n",
    "m=Map(center=[36,9],zoom=4,scroll_wheel_zoom=True)\n",
    "m"
   ]
  },
  {
   "cell_type": "code",
   "execution_count": 12,
   "id": "simplified-mapping",
   "metadata": {},
   "outputs": [],
   "source": [
    "from ipyleaflet import basemaps, TileLayer"
   ]
  },
  {
   "cell_type": "code",
   "execution_count": 13,
   "id": "curious-neighbor",
   "metadata": {},
   "outputs": [],
   "source": [
    "m.add_layer(basemaps.Esri.WorldImagery)"
   ]
  },
  {
   "cell_type": "code",
   "execution_count": 14,
   "id": "starting-waterproof",
   "metadata": {},
   "outputs": [],
   "source": [
    "google_satellite = TileLayer(\n",
    "    url=\"https://mt1.google.com/vt/lyrs=y&x={x}&y={y}&z={z}\",\n",
    "    attribution=\"Google\",\n",
    "    name=\"Google Satellite\"\n",
    ")"
   ]
  },
  {
   "cell_type": "code",
   "execution_count": 15,
   "id": "egyptian-palestinian",
   "metadata": {},
   "outputs": [],
   "source": [
    "m.add_layer(google_satellite)"
   ]
  },
  {
   "cell_type": "code",
   "execution_count": 17,
   "id": "recent-oxford",
   "metadata": {},
   "outputs": [],
   "source": [
    "from ipyleaflet import Map, FullScreenControl, LayersControl, DrawControl, MeasureControl, ScaleControl"
   ]
  },
  {
   "cell_type": "code",
   "execution_count": 18,
   "id": "charitable-symphony",
   "metadata": {},
   "outputs": [],
   "source": [
    "m.add_control(LayersControl(position=\"topright\"))"
   ]
  },
  {
   "cell_type": "code",
   "execution_count": 21,
   "id": "religious-plain",
   "metadata": {},
   "outputs": [],
   "source": [
    "m.layout.height=\"1200px\""
   ]
  },
  {
   "cell_type": "code",
   "execution_count": 22,
   "id": "korean-classification",
   "metadata": {},
   "outputs": [],
   "source": [
    "m.layout.width=\"1000px\""
   ]
  },
  {
   "cell_type": "code",
   "execution_count": 23,
   "id": "timely-investigation",
   "metadata": {},
   "outputs": [],
   "source": [
    "from ipyleaflet import Marker\n",
    "marker1 = Marker(name='marker1', location=(36, 9.5))\n",
    "marker2 = Marker(name='marker2', location=(36.2, 9.7))\n",
    "marker3 = Marker(name='marker3', location=(36.5, 9.8))\n",
    "m.add_layer(marker1)\n",
    "m.add_layer(marker2)\n",
    "m.add_layer(marker3)\n"
   ]
  },
  {
   "cell_type": "code",
   "execution_count": 24,
   "id": "careful-suicide",
   "metadata": {},
   "outputs": [],
   "source": [
    "from ipyleaflet import MarkerCluster\n",
    "marker_cluster = MarkerCluster(\n",
    "    markers=(marker1, marker2, marker3), name=\"marker cluster\"\n",
    ")\n",
    "\n",
    "m.add_layer(marker_cluster)"
   ]
  },
  {
   "cell_type": "code",
   "execution_count": null,
   "id": "relative-jason",
   "metadata": {},
   "outputs": [],
   "source": []
  }
 ],
 "metadata": {
  "kernelspec": {
   "display_name": "Python 3",
   "language": "python",
   "name": "python3"
  },
  "language_info": {
   "codemirror_mode": {
    "name": "ipython",
    "version": 3
   },
   "file_extension": ".py",
   "mimetype": "text/x-python",
   "name": "python",
   "nbconvert_exporter": "python",
   "pygments_lexer": "ipython3",
   "version": "3.8.8"
  }
 },
 "nbformat": 4,
 "nbformat_minor": 5
}
